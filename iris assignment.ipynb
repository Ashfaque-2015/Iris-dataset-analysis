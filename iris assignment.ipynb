{
 "cells": [
  {
   "cell_type": "code",
   "execution_count": 1,
   "metadata": {},
   "outputs": [],
   "source": [
    "import pandas as pd "
   ]
  },
  {
   "cell_type": "code",
   "execution_count": 3,
   "metadata": {},
   "outputs": [],
   "source": [
    "import numpy as np"
   ]
  },
  {
   "cell_type": "code",
   "execution_count": 105,
   "metadata": {},
   "outputs": [],
   "source": [
    "import matplotlib.pyplot as plt"
   ]
  },
  {
   "cell_type": "code",
   "execution_count": 106,
   "metadata": {},
   "outputs": [],
   "source": [
    "iris = pd.read_csv('iris.csv')"
   ]
  },
  {
   "cell_type": "code",
   "execution_count": 107,
   "metadata": {},
   "outputs": [
    {
     "name": "stdout",
     "output_type": "stream",
     "text": [
      "     sepal_length  sepal_width  petal_length  petal_width    species\n",
      "0             5.1          3.5           1.4          0.2     setosa\n",
      "1             4.9          3.0           1.4          0.2     setosa\n",
      "2             4.7          3.2           1.3          0.2     setosa\n",
      "3             4.6          3.1           1.5          0.2     setosa\n",
      "4             5.0          3.6           1.4          0.2     setosa\n",
      "5             5.4          3.9           1.7          0.4     setosa\n",
      "6             4.6          3.4           1.4          0.3     setosa\n",
      "7             5.0          3.4           1.5          0.2     setosa\n",
      "8             4.4          2.9           1.4          0.2     setosa\n",
      "9             4.9          3.1           1.5          0.1     setosa\n",
      "10            5.4          3.7           1.5          0.2     setosa\n",
      "11            4.8          3.4           1.6          0.2     setosa\n",
      "12            4.8          3.0           1.4          0.1     setosa\n",
      "13            4.3          3.0           1.1          0.1     setosa\n",
      "14            5.8          4.0           1.2          0.2     setosa\n",
      "15            5.7          4.4           1.5          0.4     setosa\n",
      "16            5.4          3.9           1.3          0.4     setosa\n",
      "17            5.1          3.5           1.4          0.3     setosa\n",
      "18            5.7          3.8           1.7          0.3     setosa\n",
      "19            5.1          3.8           1.5          0.3     setosa\n",
      "20            5.4          3.4           1.7          0.2     setosa\n",
      "21            5.1          3.7           1.5          0.4     setosa\n",
      "22            4.6          3.6           1.0          0.2     setosa\n",
      "23            5.1          3.3           1.7          0.5     setosa\n",
      "24            4.8          3.4           1.9          0.2     setosa\n",
      "25            5.0          3.0           1.6          0.2     setosa\n",
      "26            5.0          3.4           1.6          0.4     setosa\n",
      "27            5.2          3.5           1.5          0.2     setosa\n",
      "28            5.2          3.4           1.4          0.2     setosa\n",
      "29            4.7          3.2           1.6          0.2     setosa\n",
      "..            ...          ...           ...          ...        ...\n",
      "120           6.9          3.2           5.7          2.3  virginica\n",
      "121           5.6          2.8           4.9          2.0  virginica\n",
      "122           7.7          2.8           6.7          2.0  virginica\n",
      "123           6.3          2.7           4.9          1.8  virginica\n",
      "124           6.7          3.3           5.7          2.1  virginica\n",
      "125           7.2          3.2           6.0          1.8  virginica\n",
      "126           6.2          2.8           4.8          1.8  virginica\n",
      "127           6.1          3.0           4.9          1.8  virginica\n",
      "128           6.4          2.8           5.6          2.1  virginica\n",
      "129           7.2          3.0           5.8          1.6  virginica\n",
      "130           7.4          2.8           6.1          1.9  virginica\n",
      "131           7.9          3.8           6.4          2.0  virginica\n",
      "132           6.4          2.8           5.6          2.2  virginica\n",
      "133           6.3          2.8           5.1          1.5  virginica\n",
      "134           6.1          2.6           5.6          1.4  virginica\n",
      "135           7.7          3.0           6.1          2.3  virginica\n",
      "136           6.3          3.4           5.6          2.4  virginica\n",
      "137           6.4          3.1           5.5          1.8  virginica\n",
      "138           6.0          3.0           4.8          1.8  virginica\n",
      "139           6.9          3.1           5.4          2.1  virginica\n",
      "140           6.7          3.1           5.6          2.4  virginica\n",
      "141           6.9          3.1           5.1          2.3  virginica\n",
      "142           5.8          2.7           5.1          1.9  virginica\n",
      "143           6.8          3.2           5.9          2.3  virginica\n",
      "144           6.7          3.3           5.7          2.5  virginica\n",
      "145           6.7          3.0           5.2          2.3  virginica\n",
      "146           6.3          2.5           5.0          1.9  virginica\n",
      "147           6.5          3.0           5.2          2.0  virginica\n",
      "148           6.2          3.4           5.4          2.3  virginica\n",
      "149           5.9          3.0           5.1          1.8  virginica\n",
      "\n",
      "[150 rows x 5 columns]\n"
     ]
    }
   ],
   "source": [
    "print(iris)"
   ]
  },
  {
   "cell_type": "code",
   "execution_count": 108,
   "metadata": {},
   "outputs": [
    {
     "data": {
      "text/plain": [
       "False"
      ]
     },
     "execution_count": 108,
     "metadata": {},
     "output_type": "execute_result"
    }
   ],
   "source": [
    "iris.isnull().values.any() ## to check null value"
   ]
  },
  {
   "cell_type": "code",
   "execution_count": 109,
   "metadata": {},
   "outputs": [
    {
     "data": {
      "text/plain": [
       "sepal_length    0\n",
       "sepal_width     0\n",
       "petal_length    0\n",
       "petal_width     0\n",
       "species         0\n",
       "dtype: int64"
      ]
     },
     "execution_count": 109,
     "metadata": {},
     "output_type": "execute_result"
    }
   ],
   "source": [
    "iris.isnull().sum() ## to check summery/ summation mof null value"
   ]
  },
  {
   "cell_type": "code",
   "execution_count": 110,
   "metadata": {},
   "outputs": [
    {
     "data": {
      "text/plain": [
       "0      False\n",
       "1      False\n",
       "2      False\n",
       "3      False\n",
       "4      False\n",
       "5      False\n",
       "6      False\n",
       "7      False\n",
       "8      False\n",
       "9      False\n",
       "10     False\n",
       "11     False\n",
       "12     False\n",
       "13     False\n",
       "14     False\n",
       "15     False\n",
       "16     False\n",
       "17     False\n",
       "18     False\n",
       "19     False\n",
       "20     False\n",
       "21     False\n",
       "22     False\n",
       "23     False\n",
       "24     False\n",
       "25     False\n",
       "26     False\n",
       "27     False\n",
       "28     False\n",
       "29     False\n",
       "       ...  \n",
       "120    False\n",
       "121    False\n",
       "122    False\n",
       "123    False\n",
       "124    False\n",
       "125    False\n",
       "126    False\n",
       "127    False\n",
       "128    False\n",
       "129    False\n",
       "130    False\n",
       "131    False\n",
       "132    False\n",
       "133    False\n",
       "134    False\n",
       "135    False\n",
       "136    False\n",
       "137    False\n",
       "138    False\n",
       "139    False\n",
       "140    False\n",
       "141    False\n",
       "142     True\n",
       "143    False\n",
       "144    False\n",
       "145    False\n",
       "146    False\n",
       "147    False\n",
       "148    False\n",
       "149    False\n",
       "Length: 150, dtype: bool"
      ]
     },
     "execution_count": 110,
     "metadata": {},
     "output_type": "execute_result"
    }
   ],
   "source": [
    "iris.duplicated() ## check duplicate value"
   ]
  },
  {
   "cell_type": "code",
   "execution_count": 111,
   "metadata": {},
   "outputs": [],
   "source": [
    "iris_duplicate = iris[iris.duplicated()] ## find out the all duplicates"
   ]
  },
  {
   "cell_type": "code",
   "execution_count": 112,
   "metadata": {},
   "outputs": [
    {
     "name": "stdout",
     "output_type": "stream",
     "text": [
      "     sepal_length  sepal_width  petal_length  petal_width    species\n",
      "34            4.9          3.1           1.5          0.1     setosa\n",
      "37            4.9          3.1           1.5          0.1     setosa\n",
      "142           5.8          2.7           5.1          1.9  virginica\n"
     ]
    }
   ],
   "source": [
    "print(iris_duplicate)"
   ]
  },
  {
   "cell_type": "code",
   "execution_count": 113,
   "metadata": {},
   "outputs": [],
   "source": [
    "iris_duplicate_removed = iris.drop_duplicates() # remove all duplicates"
   ]
  },
  {
   "cell_type": "code",
   "execution_count": 114,
   "metadata": {},
   "outputs": [
    {
     "name": "stdout",
     "output_type": "stream",
     "text": [
      "     sepal_length  sepal_width  petal_length  petal_width    species\n",
      "0             5.1          3.5           1.4          0.2     setosa\n",
      "1             4.9          3.0           1.4          0.2     setosa\n",
      "2             4.7          3.2           1.3          0.2     setosa\n",
      "3             4.6          3.1           1.5          0.2     setosa\n",
      "4             5.0          3.6           1.4          0.2     setosa\n",
      "5             5.4          3.9           1.7          0.4     setosa\n",
      "6             4.6          3.4           1.4          0.3     setosa\n",
      "7             5.0          3.4           1.5          0.2     setosa\n",
      "8             4.4          2.9           1.4          0.2     setosa\n",
      "9             4.9          3.1           1.5          0.1     setosa\n",
      "10            5.4          3.7           1.5          0.2     setosa\n",
      "11            4.8          3.4           1.6          0.2     setosa\n",
      "12            4.8          3.0           1.4          0.1     setosa\n",
      "13            4.3          3.0           1.1          0.1     setosa\n",
      "14            5.8          4.0           1.2          0.2     setosa\n",
      "15            5.7          4.4           1.5          0.4     setosa\n",
      "16            5.4          3.9           1.3          0.4     setosa\n",
      "17            5.1          3.5           1.4          0.3     setosa\n",
      "18            5.7          3.8           1.7          0.3     setosa\n",
      "19            5.1          3.8           1.5          0.3     setosa\n",
      "20            5.4          3.4           1.7          0.2     setosa\n",
      "21            5.1          3.7           1.5          0.4     setosa\n",
      "22            4.6          3.6           1.0          0.2     setosa\n",
      "23            5.1          3.3           1.7          0.5     setosa\n",
      "24            4.8          3.4           1.9          0.2     setosa\n",
      "25            5.0          3.0           1.6          0.2     setosa\n",
      "26            5.0          3.4           1.6          0.4     setosa\n",
      "27            5.2          3.5           1.5          0.2     setosa\n",
      "28            5.2          3.4           1.4          0.2     setosa\n",
      "29            4.7          3.2           1.6          0.2     setosa\n",
      "..            ...          ...           ...          ...        ...\n",
      "119           6.0          2.2           5.0          1.5  virginica\n",
      "120           6.9          3.2           5.7          2.3  virginica\n",
      "121           5.6          2.8           4.9          2.0  virginica\n",
      "122           7.7          2.8           6.7          2.0  virginica\n",
      "123           6.3          2.7           4.9          1.8  virginica\n",
      "124           6.7          3.3           5.7          2.1  virginica\n",
      "125           7.2          3.2           6.0          1.8  virginica\n",
      "126           6.2          2.8           4.8          1.8  virginica\n",
      "127           6.1          3.0           4.9          1.8  virginica\n",
      "128           6.4          2.8           5.6          2.1  virginica\n",
      "129           7.2          3.0           5.8          1.6  virginica\n",
      "130           7.4          2.8           6.1          1.9  virginica\n",
      "131           7.9          3.8           6.4          2.0  virginica\n",
      "132           6.4          2.8           5.6          2.2  virginica\n",
      "133           6.3          2.8           5.1          1.5  virginica\n",
      "134           6.1          2.6           5.6          1.4  virginica\n",
      "135           7.7          3.0           6.1          2.3  virginica\n",
      "136           6.3          3.4           5.6          2.4  virginica\n",
      "137           6.4          3.1           5.5          1.8  virginica\n",
      "138           6.0          3.0           4.8          1.8  virginica\n",
      "139           6.9          3.1           5.4          2.1  virginica\n",
      "140           6.7          3.1           5.6          2.4  virginica\n",
      "141           6.9          3.1           5.1          2.3  virginica\n",
      "143           6.8          3.2           5.9          2.3  virginica\n",
      "144           6.7          3.3           5.7          2.5  virginica\n",
      "145           6.7          3.0           5.2          2.3  virginica\n",
      "146           6.3          2.5           5.0          1.9  virginica\n",
      "147           6.5          3.0           5.2          2.0  virginica\n",
      "148           6.2          3.4           5.4          2.3  virginica\n",
      "149           5.9          3.0           5.1          1.8  virginica\n",
      "\n",
      "[147 rows x 5 columns]\n"
     ]
    }
   ],
   "source": [
    "print(iris_duplicate_removed)"
   ]
  },
  {
   "cell_type": "code",
   "execution_count": 115,
   "metadata": {},
   "outputs": [
    {
     "name": "stdout",
     "output_type": "stream",
     "text": [
      "<class 'pandas.core.frame.DataFrame'>\n",
      "Int64Index: 147 entries, 0 to 149\n",
      "Data columns (total 5 columns):\n",
      "sepal_length    147 non-null float64\n",
      "sepal_width     147 non-null float64\n",
      "petal_length    147 non-null float64\n",
      "petal_width     147 non-null float64\n",
      "species         147 non-null object\n",
      "dtypes: float64(4), object(1)\n",
      "memory usage: 6.9+ KB\n"
     ]
    }
   ],
   "source": [
    "iris_duplicate_removed.info()"
   ]
  },
  {
   "cell_type": "code",
   "execution_count": 116,
   "metadata": {},
   "outputs": [
    {
     "data": {
      "text/html": [
       "<div>\n",
       "<style scoped>\n",
       "    .dataframe tbody tr th:only-of-type {\n",
       "        vertical-align: middle;\n",
       "    }\n",
       "\n",
       "    .dataframe tbody tr th {\n",
       "        vertical-align: top;\n",
       "    }\n",
       "\n",
       "    .dataframe thead th {\n",
       "        text-align: right;\n",
       "    }\n",
       "</style>\n",
       "<table border=\"1\" class=\"dataframe\">\n",
       "  <thead>\n",
       "    <tr style=\"text-align: right;\">\n",
       "      <th></th>\n",
       "      <th>sepal_length</th>\n",
       "      <th>sepal_width</th>\n",
       "      <th>petal_length</th>\n",
       "      <th>petal_width</th>\n",
       "    </tr>\n",
       "  </thead>\n",
       "  <tbody>\n",
       "    <tr>\n",
       "      <th>count</th>\n",
       "      <td>147.000000</td>\n",
       "      <td>147.000000</td>\n",
       "      <td>147.000000</td>\n",
       "      <td>147.000000</td>\n",
       "    </tr>\n",
       "    <tr>\n",
       "      <th>mean</th>\n",
       "      <td>5.856463</td>\n",
       "      <td>3.055782</td>\n",
       "      <td>3.780272</td>\n",
       "      <td>1.208844</td>\n",
       "    </tr>\n",
       "    <tr>\n",
       "      <th>std</th>\n",
       "      <td>0.829100</td>\n",
       "      <td>0.437009</td>\n",
       "      <td>1.759111</td>\n",
       "      <td>0.757874</td>\n",
       "    </tr>\n",
       "    <tr>\n",
       "      <th>min</th>\n",
       "      <td>4.300000</td>\n",
       "      <td>2.000000</td>\n",
       "      <td>1.000000</td>\n",
       "      <td>0.100000</td>\n",
       "    </tr>\n",
       "    <tr>\n",
       "      <th>25%</th>\n",
       "      <td>5.100000</td>\n",
       "      <td>2.800000</td>\n",
       "      <td>1.600000</td>\n",
       "      <td>0.300000</td>\n",
       "    </tr>\n",
       "    <tr>\n",
       "      <th>50%</th>\n",
       "      <td>5.800000</td>\n",
       "      <td>3.000000</td>\n",
       "      <td>4.400000</td>\n",
       "      <td>1.300000</td>\n",
       "    </tr>\n",
       "    <tr>\n",
       "      <th>75%</th>\n",
       "      <td>6.400000</td>\n",
       "      <td>3.300000</td>\n",
       "      <td>5.100000</td>\n",
       "      <td>1.800000</td>\n",
       "    </tr>\n",
       "    <tr>\n",
       "      <th>max</th>\n",
       "      <td>7.900000</td>\n",
       "      <td>4.400000</td>\n",
       "      <td>6.900000</td>\n",
       "      <td>2.500000</td>\n",
       "    </tr>\n",
       "  </tbody>\n",
       "</table>\n",
       "</div>"
      ],
      "text/plain": [
       "       sepal_length  sepal_width  petal_length  petal_width\n",
       "count    147.000000   147.000000    147.000000   147.000000\n",
       "mean       5.856463     3.055782      3.780272     1.208844\n",
       "std        0.829100     0.437009      1.759111     0.757874\n",
       "min        4.300000     2.000000      1.000000     0.100000\n",
       "25%        5.100000     2.800000      1.600000     0.300000\n",
       "50%        5.800000     3.000000      4.400000     1.300000\n",
       "75%        6.400000     3.300000      5.100000     1.800000\n",
       "max        7.900000     4.400000      6.900000     2.500000"
      ]
     },
     "execution_count": 116,
     "metadata": {},
     "output_type": "execute_result"
    }
   ],
   "source": [
    "iris_duplicate_removed.describe()"
   ]
  },
  {
   "cell_type": "code",
   "execution_count": 117,
   "metadata": {},
   "outputs": [],
   "source": [
    "freshIris = iris_duplicate_removed ## change variable name"
   ]
  },
  {
   "cell_type": "code",
   "execution_count": 118,
   "metadata": {},
   "outputs": [
    {
     "name": "stdout",
     "output_type": "stream",
     "text": [
      "     sepal_length  sepal_width  petal_length  petal_width    species\n",
      "0             5.1          3.5           1.4          0.2     setosa\n",
      "1             4.9          3.0           1.4          0.2     setosa\n",
      "2             4.7          3.2           1.3          0.2     setosa\n",
      "3             4.6          3.1           1.5          0.2     setosa\n",
      "4             5.0          3.6           1.4          0.2     setosa\n",
      "5             5.4          3.9           1.7          0.4     setosa\n",
      "6             4.6          3.4           1.4          0.3     setosa\n",
      "7             5.0          3.4           1.5          0.2     setosa\n",
      "8             4.4          2.9           1.4          0.2     setosa\n",
      "9             4.9          3.1           1.5          0.1     setosa\n",
      "10            5.4          3.7           1.5          0.2     setosa\n",
      "11            4.8          3.4           1.6          0.2     setosa\n",
      "12            4.8          3.0           1.4          0.1     setosa\n",
      "13            4.3          3.0           1.1          0.1     setosa\n",
      "14            5.8          4.0           1.2          0.2     setosa\n",
      "15            5.7          4.4           1.5          0.4     setosa\n",
      "16            5.4          3.9           1.3          0.4     setosa\n",
      "17            5.1          3.5           1.4          0.3     setosa\n",
      "18            5.7          3.8           1.7          0.3     setosa\n",
      "19            5.1          3.8           1.5          0.3     setosa\n",
      "20            5.4          3.4           1.7          0.2     setosa\n",
      "21            5.1          3.7           1.5          0.4     setosa\n",
      "22            4.6          3.6           1.0          0.2     setosa\n",
      "23            5.1          3.3           1.7          0.5     setosa\n",
      "24            4.8          3.4           1.9          0.2     setosa\n",
      "25            5.0          3.0           1.6          0.2     setosa\n",
      "26            5.0          3.4           1.6          0.4     setosa\n",
      "27            5.2          3.5           1.5          0.2     setosa\n",
      "28            5.2          3.4           1.4          0.2     setosa\n",
      "29            4.7          3.2           1.6          0.2     setosa\n",
      "..            ...          ...           ...          ...        ...\n",
      "119           6.0          2.2           5.0          1.5  virginica\n",
      "120           6.9          3.2           5.7          2.3  virginica\n",
      "121           5.6          2.8           4.9          2.0  virginica\n",
      "122           7.7          2.8           6.7          2.0  virginica\n",
      "123           6.3          2.7           4.9          1.8  virginica\n",
      "124           6.7          3.3           5.7          2.1  virginica\n",
      "125           7.2          3.2           6.0          1.8  virginica\n",
      "126           6.2          2.8           4.8          1.8  virginica\n",
      "127           6.1          3.0           4.9          1.8  virginica\n",
      "128           6.4          2.8           5.6          2.1  virginica\n",
      "129           7.2          3.0           5.8          1.6  virginica\n",
      "130           7.4          2.8           6.1          1.9  virginica\n",
      "131           7.9          3.8           6.4          2.0  virginica\n",
      "132           6.4          2.8           5.6          2.2  virginica\n",
      "133           6.3          2.8           5.1          1.5  virginica\n",
      "134           6.1          2.6           5.6          1.4  virginica\n",
      "135           7.7          3.0           6.1          2.3  virginica\n",
      "136           6.3          3.4           5.6          2.4  virginica\n",
      "137           6.4          3.1           5.5          1.8  virginica\n",
      "138           6.0          3.0           4.8          1.8  virginica\n",
      "139           6.9          3.1           5.4          2.1  virginica\n",
      "140           6.7          3.1           5.6          2.4  virginica\n",
      "141           6.9          3.1           5.1          2.3  virginica\n",
      "143           6.8          3.2           5.9          2.3  virginica\n",
      "144           6.7          3.3           5.7          2.5  virginica\n",
      "145           6.7          3.0           5.2          2.3  virginica\n",
      "146           6.3          2.5           5.0          1.9  virginica\n",
      "147           6.5          3.0           5.2          2.0  virginica\n",
      "148           6.2          3.4           5.4          2.3  virginica\n",
      "149           5.9          3.0           5.1          1.8  virginica\n",
      "\n",
      "[147 rows x 5 columns]\n"
     ]
    }
   ],
   "source": [
    "print(freshIris) "
   ]
  },
  {
   "cell_type": "code",
   "execution_count": 119,
   "metadata": {},
   "outputs": [
    {
     "data": {
      "text/plain": [
       "array(['setosa', 'versicolor', 'virginica'], dtype=object)"
      ]
     },
     "execution_count": 119,
     "metadata": {},
     "output_type": "execute_result"
    }
   ],
   "source": [
    "freshIris['species'].unique()     ### find out the unique classification"
   ]
  },
  {
   "cell_type": "code",
   "execution_count": 120,
   "metadata": {},
   "outputs": [
    {
     "name": "stdout",
     "output_type": "stream",
     "text": [
      "species\n",
      "setosa        48\n",
      "versicolor    50\n",
      "virginica     49\n",
      "dtype: int64\n"
     ]
    }
   ],
   "source": [
    "print(freshIris.groupby('species').size())    ### find out the unique classification.groupby('Species').size())"
   ]
  },
  {
   "cell_type": "code",
   "execution_count": 121,
   "metadata": {},
   "outputs": [],
   "source": [
    "#Create 3 DataFrame for each Species\n",
    "setosa=freshIris[freshIris['species']=='setosa'];\n",
    "versicolor=freshIris[freshIris['species']=='versicolor'];\n",
    "virginica = freshIris[freshIris['species']=='virginica']\n"
   ]
  },
  {
   "cell_type": "code",
   "execution_count": 122,
   "metadata": {},
   "outputs": [
    {
     "name": "stdout",
     "output_type": "stream",
     "text": [
      "    sepal_length  sepal_width  petal_length  petal_width species\n",
      "0            5.1          3.5           1.4          0.2  setosa\n",
      "1            4.9          3.0           1.4          0.2  setosa\n",
      "2            4.7          3.2           1.3          0.2  setosa\n",
      "3            4.6          3.1           1.5          0.2  setosa\n",
      "4            5.0          3.6           1.4          0.2  setosa\n",
      "5            5.4          3.9           1.7          0.4  setosa\n",
      "6            4.6          3.4           1.4          0.3  setosa\n",
      "7            5.0          3.4           1.5          0.2  setosa\n",
      "8            4.4          2.9           1.4          0.2  setosa\n",
      "9            4.9          3.1           1.5          0.1  setosa\n",
      "10           5.4          3.7           1.5          0.2  setosa\n",
      "11           4.8          3.4           1.6          0.2  setosa\n",
      "12           4.8          3.0           1.4          0.1  setosa\n",
      "13           4.3          3.0           1.1          0.1  setosa\n",
      "14           5.8          4.0           1.2          0.2  setosa\n",
      "15           5.7          4.4           1.5          0.4  setosa\n",
      "16           5.4          3.9           1.3          0.4  setosa\n",
      "17           5.1          3.5           1.4          0.3  setosa\n",
      "18           5.7          3.8           1.7          0.3  setosa\n",
      "19           5.1          3.8           1.5          0.3  setosa\n",
      "20           5.4          3.4           1.7          0.2  setosa\n",
      "21           5.1          3.7           1.5          0.4  setosa\n",
      "22           4.6          3.6           1.0          0.2  setosa\n",
      "23           5.1          3.3           1.7          0.5  setosa\n",
      "24           4.8          3.4           1.9          0.2  setosa\n",
      "25           5.0          3.0           1.6          0.2  setosa\n",
      "26           5.0          3.4           1.6          0.4  setosa\n",
      "27           5.2          3.5           1.5          0.2  setosa\n",
      "28           5.2          3.4           1.4          0.2  setosa\n",
      "29           4.7          3.2           1.6          0.2  setosa\n",
      "30           4.8          3.1           1.6          0.2  setosa\n",
      "31           5.4          3.4           1.5          0.4  setosa\n",
      "32           5.2          4.1           1.5          0.1  setosa\n",
      "33           5.5          4.2           1.4          0.2  setosa\n",
      "35           5.0          3.2           1.2          0.2  setosa\n",
      "36           5.5          3.5           1.3          0.2  setosa\n",
      "38           4.4          3.0           1.3          0.2  setosa\n",
      "39           5.1          3.4           1.5          0.2  setosa\n",
      "40           5.0          3.5           1.3          0.3  setosa\n",
      "41           4.5          2.3           1.3          0.3  setosa\n",
      "42           4.4          3.2           1.3          0.2  setosa\n",
      "43           5.0          3.5           1.6          0.6  setosa\n",
      "44           5.1          3.8           1.9          0.4  setosa\n",
      "45           4.8          3.0           1.4          0.3  setosa\n",
      "46           5.1          3.8           1.6          0.2  setosa\n",
      "47           4.6          3.2           1.4          0.2  setosa\n",
      "48           5.3          3.7           1.5          0.2  setosa\n",
      "49           5.0          3.3           1.4          0.2  setosa\n",
      "    sepal_length  sepal_width  petal_length  petal_width     species\n",
      "50           7.0          3.2           4.7          1.4  versicolor\n",
      "51           6.4          3.2           4.5          1.5  versicolor\n",
      "52           6.9          3.1           4.9          1.5  versicolor\n",
      "53           5.5          2.3           4.0          1.3  versicolor\n",
      "54           6.5          2.8           4.6          1.5  versicolor\n",
      "55           5.7          2.8           4.5          1.3  versicolor\n",
      "56           6.3          3.3           4.7          1.6  versicolor\n",
      "57           4.9          2.4           3.3          1.0  versicolor\n",
      "58           6.6          2.9           4.6          1.3  versicolor\n",
      "59           5.2          2.7           3.9          1.4  versicolor\n",
      "60           5.0          2.0           3.5          1.0  versicolor\n",
      "61           5.9          3.0           4.2          1.5  versicolor\n",
      "62           6.0          2.2           4.0          1.0  versicolor\n",
      "63           6.1          2.9           4.7          1.4  versicolor\n",
      "64           5.6          2.9           3.6          1.3  versicolor\n",
      "65           6.7          3.1           4.4          1.4  versicolor\n",
      "66           5.6          3.0           4.5          1.5  versicolor\n",
      "67           5.8          2.7           4.1          1.0  versicolor\n",
      "68           6.2          2.2           4.5          1.5  versicolor\n",
      "69           5.6          2.5           3.9          1.1  versicolor\n",
      "70           5.9          3.2           4.8          1.8  versicolor\n",
      "71           6.1          2.8           4.0          1.3  versicolor\n",
      "72           6.3          2.5           4.9          1.5  versicolor\n",
      "73           6.1          2.8           4.7          1.2  versicolor\n",
      "74           6.4          2.9           4.3          1.3  versicolor\n",
      "75           6.6          3.0           4.4          1.4  versicolor\n",
      "76           6.8          2.8           4.8          1.4  versicolor\n",
      "77           6.7          3.0           5.0          1.7  versicolor\n",
      "78           6.0          2.9           4.5          1.5  versicolor\n",
      "79           5.7          2.6           3.5          1.0  versicolor\n",
      "80           5.5          2.4           3.8          1.1  versicolor\n",
      "81           5.5          2.4           3.7          1.0  versicolor\n",
      "82           5.8          2.7           3.9          1.2  versicolor\n",
      "83           6.0          2.7           5.1          1.6  versicolor\n",
      "84           5.4          3.0           4.5          1.5  versicolor\n",
      "85           6.0          3.4           4.5          1.6  versicolor\n",
      "86           6.7          3.1           4.7          1.5  versicolor\n",
      "87           6.3          2.3           4.4          1.3  versicolor\n",
      "88           5.6          3.0           4.1          1.3  versicolor\n",
      "89           5.5          2.5           4.0          1.3  versicolor\n",
      "90           5.5          2.6           4.4          1.2  versicolor\n",
      "91           6.1          3.0           4.6          1.4  versicolor\n",
      "92           5.8          2.6           4.0          1.2  versicolor\n",
      "93           5.0          2.3           3.3          1.0  versicolor\n",
      "94           5.6          2.7           4.2          1.3  versicolor\n",
      "95           5.7          3.0           4.2          1.2  versicolor\n",
      "96           5.7          2.9           4.2          1.3  versicolor\n",
      "97           6.2          2.9           4.3          1.3  versicolor\n",
      "98           5.1          2.5           3.0          1.1  versicolor\n",
      "99           5.7          2.8           4.1          1.3  versicolor\n",
      "     sepal_length  sepal_width  petal_length  petal_width    species\n",
      "100           6.3          3.3           6.0          2.5  virginica\n",
      "101           5.8          2.7           5.1          1.9  virginica\n",
      "102           7.1          3.0           5.9          2.1  virginica\n",
      "103           6.3          2.9           5.6          1.8  virginica\n",
      "104           6.5          3.0           5.8          2.2  virginica\n",
      "105           7.6          3.0           6.6          2.1  virginica\n",
      "106           4.9          2.5           4.5          1.7  virginica\n",
      "107           7.3          2.9           6.3          1.8  virginica\n",
      "108           6.7          2.5           5.8          1.8  virginica\n",
      "109           7.2          3.6           6.1          2.5  virginica\n",
      "110           6.5          3.2           5.1          2.0  virginica\n",
      "111           6.4          2.7           5.3          1.9  virginica\n",
      "112           6.8          3.0           5.5          2.1  virginica\n",
      "113           5.7          2.5           5.0          2.0  virginica\n",
      "114           5.8          2.8           5.1          2.4  virginica\n",
      "115           6.4          3.2           5.3          2.3  virginica\n",
      "116           6.5          3.0           5.5          1.8  virginica\n",
      "117           7.7          3.8           6.7          2.2  virginica\n",
      "118           7.7          2.6           6.9          2.3  virginica\n",
      "119           6.0          2.2           5.0          1.5  virginica\n",
      "120           6.9          3.2           5.7          2.3  virginica\n",
      "121           5.6          2.8           4.9          2.0  virginica\n",
      "122           7.7          2.8           6.7          2.0  virginica\n",
      "123           6.3          2.7           4.9          1.8  virginica\n",
      "124           6.7          3.3           5.7          2.1  virginica\n",
      "125           7.2          3.2           6.0          1.8  virginica\n",
      "126           6.2          2.8           4.8          1.8  virginica\n",
      "127           6.1          3.0           4.9          1.8  virginica\n",
      "128           6.4          2.8           5.6          2.1  virginica\n",
      "129           7.2          3.0           5.8          1.6  virginica\n",
      "130           7.4          2.8           6.1          1.9  virginica\n",
      "131           7.9          3.8           6.4          2.0  virginica\n",
      "132           6.4          2.8           5.6          2.2  virginica\n",
      "133           6.3          2.8           5.1          1.5  virginica\n",
      "134           6.1          2.6           5.6          1.4  virginica\n",
      "135           7.7          3.0           6.1          2.3  virginica\n",
      "136           6.3          3.4           5.6          2.4  virginica\n",
      "137           6.4          3.1           5.5          1.8  virginica\n",
      "138           6.0          3.0           4.8          1.8  virginica\n",
      "139           6.9          3.1           5.4          2.1  virginica\n",
      "140           6.7          3.1           5.6          2.4  virginica\n",
      "141           6.9          3.1           5.1          2.3  virginica\n",
      "143           6.8          3.2           5.9          2.3  virginica\n",
      "144           6.7          3.3           5.7          2.5  virginica\n",
      "145           6.7          3.0           5.2          2.3  virginica\n",
      "146           6.3          2.5           5.0          1.9  virginica\n",
      "147           6.5          3.0           5.2          2.0  virginica\n",
      "148           6.2          3.4           5.4          2.3  virginica\n",
      "149           5.9          3.0           5.1          1.8  virginica\n"
     ]
    }
   ],
   "source": [
    "print(setosa)\n",
    "print(versicolor)\n",
    "print(virginica)\n"
   ]
  },
  {
   "cell_type": "code",
   "execution_count": 123,
   "metadata": {},
   "outputs": [
    {
     "name": "stdout",
     "output_type": "stream",
     "text": [
      "       sepal_length  sepal_width  petal_length  petal_width\n",
      "count     48.000000    48.000000     48.000000    48.000000\n",
      "mean       5.010417     3.431250      1.462500     0.250000\n",
      "std        0.359219     0.383243      0.177002     0.105185\n",
      "min        4.300000     2.300000      1.000000     0.100000\n",
      "25%        4.800000     3.200000      1.400000     0.200000\n",
      "50%        5.000000     3.400000      1.500000     0.200000\n",
      "75%        5.200000     3.700000      1.600000     0.300000\n",
      "max        5.800000     4.400000      1.900000     0.600000\n",
      "       sepal_length  sepal_width  petal_length  petal_width\n",
      "count     50.000000    50.000000     50.000000    50.000000\n",
      "mean       5.936000     2.770000      4.260000     1.326000\n",
      "std        0.516171     0.313798      0.469911     0.197753\n",
      "min        4.900000     2.000000      3.000000     1.000000\n",
      "25%        5.600000     2.525000      4.000000     1.200000\n",
      "50%        5.900000     2.800000      4.350000     1.300000\n",
      "75%        6.300000     3.000000      4.600000     1.500000\n",
      "max        7.000000     3.400000      5.100000     1.800000\n",
      "       sepal_length  sepal_width  petal_length  petal_width\n",
      "count     49.000000    49.000000     49.000000    49.000000\n",
      "mean       6.604082     2.979592      5.561224     2.028571\n",
      "std        0.632113     0.323380      0.553706     0.276887\n",
      "min        4.900000     2.200000      4.500000     1.400000\n",
      "25%        6.300000     2.800000      5.100000     1.800000\n",
      "50%        6.500000     3.000000      5.600000     2.000000\n",
      "75%        6.900000     3.200000      5.900000     2.300000\n",
      "max        7.900000     3.800000      6.900000     2.500000\n"
     ]
    }
   ],
   "source": [
    "## species wise description\n",
    "print(setosa.describe())\n",
    "print(versicolor.describe())\n",
    "print(virginica.describe())\n"
   ]
  },
  {
   "cell_type": "code",
   "execution_count": 135,
   "metadata": {},
   "outputs": [
    {
     "data": {
      "text/plain": [
       "<Figure size 432x288 with 0 Axes>"
      ]
     },
     "metadata": {},
     "output_type": "display_data"
    },
    {
     "data": {
      "image/png": "[encoded data removed]",
      "text/plain": [
       "<Figure size 1440x720 with 3 Axes>"
      ]
     },
     "metadata": {
      "needs_background": "light"
     },
     "output_type": "display_data"
    }
   ],
   "source": [
    "plt.figure() ## ploting sepal length of eatch catagories\n",
    "\n",
    "fig,ax=plt.subplots(1,3,figsize=(20, 10))\n",
    "setosa[\"sepal_length\"].plot(kind=\"hist\",ax=ax[0],label=\"setosa\",color ='r',fontsize=10)\n",
    "versicolor[\"sepal_length\"].plot(kind=\"hist\",ax=ax[1],label=\"versicolor\",color='b',fontsize=10)\n",
    "virginica[\"sepal_length\"].plot( kind=\"hist\",ax=ax[2],label=\"virginica\",color='g',fontsize=10)\n",
    "\n",
    "plt.show()"
   ]
  },
  {
   "cell_type": "code",
   "execution_count": 138,
   "metadata": {},
   "outputs": [
    {
     "data": {
      "text/plain": [
       "<matplotlib.legend.Legend at 0x1afb6d4e940>"
      ]
     },
     "execution_count": 138,
     "metadata": {},
     "output_type": "execute_result"
    },
    {
     "data": {
      "text/plain": [
       "<Figure size 432x288 with 0 Axes>"
      ]
     },
     "metadata": {},
     "output_type": "display_data"
    },
    {
     "data": {
      "image/png": "[encoded data removed]",
      "text/plain": [
       "<Figure size 1224x648 with 2 Axes>"
      ]
     },
     "metadata": {
      "needs_background": "light"
     },
     "output_type": "display_data"
    }
   ],
   "source": [
    "plt.figure()\n",
    "fig,ax=plt.subplots(1,2,figsize=(17, 9))\n",
    "freshIris.plot(x=\"sepal_length\",y=\"sepal_width\",kind=\"scatter\",ax=ax[0],sharex=False,sharey=False,label=\"sepal\",color='r')\n",
    "freshIris.plot(x=\"petal_length\",y=\"petal_width\",kind=\"scatter\",ax=ax[1],sharex=False,sharey=False,label=\"petal\",color='b')\n",
    "ax[0].set(title='Sepal comparasion', ylabel='sepal-width')\n",
    "ax[1].set(title='Petal Comparasion',  ylabel='petal-width')\n",
    "ax[0].legend()\n",
    "ax[1].legend()"
   ]
  },
  {
   "cell_type": "code",
   "execution_count": null,
   "metadata": {},
   "outputs": [],
   "source": []
  },
  {
   "cell_type": "code",
   "execution_count": null,
   "metadata": {},
   "outputs": [],
   "source": []
  }
 ],
 "metadata": {
  "kernelspec": {
   "display_name": "Python 3",
   "language": "python",
   "name": "python3"
  },
  "language_info": {
   "codemirror_mode": {
    "name": "ipython",
    "version": 3
   },
   "file_extension": ".py",
   "mimetype": "text/x-python",
   "name": "python",
   "nbconvert_exporter": "python",
   "pygments_lexer": "ipython3",
   "version": "3.7.3"
  }
 },
 "nbformat": 4,
 "nbformat_minor": 2
}
